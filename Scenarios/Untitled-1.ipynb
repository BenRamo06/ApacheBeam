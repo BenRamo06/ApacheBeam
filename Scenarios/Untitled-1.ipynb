{
 "cells": [
  {
   "cell_type": "code",
   "execution_count": 2,
   "source": [
    "project = 'dasd'\n",
    "dataset_id = '32131'\n",
    "\n",
    "f\"{project}.{dataset_id}\""
   ],
   "outputs": [
    {
     "output_type": "execute_result",
     "data": {
      "text/plain": [
       "'dasd.32131'"
      ]
     },
     "metadata": {},
     "execution_count": 2
    }
   ],
   "metadata": {}
  },
  {
   "cell_type": "code",
   "execution_count": 10,
   "source": [
    "from asyncore import read\n",
    "import apache_beam as beam\n",
    "import json\n",
    "\n",
    "\n",
    "with beam.Pipeline() as p:\n",
    "\n",
    "    \n",
    "    read_file = p | 'Read File' >> beam.io.ReadFromText('/home/benito.ramos/Desktop/GIT/ApacheBeam/inputs/jsonFile')\n",
    "\n",
    "    cast_json = read_file | 'Cast to JSON' >> beam.Map(json.loads)\n",
    "\n",
    "    create_struct = cast_json | 'Create Structure' >> beam.Map(lambda x: (x['id'], x['salary']))\n",
    "\n",
    "    # group = create_struct | 'Create groups' >> beam.GroupByKey() \n",
    "\n",
    "    crate_struct = create_struct | 'Print' >> beam.Map(print)\n",
    "    "
   ],
   "outputs": [
    {
     "output_type": "stream",
     "name": "stderr",
     "text": [
      "WARNING:root:Make sure that locally built Python SDK docker image has Python 3.8 interpreter.\n"
     ]
    },
    {
     "output_type": "stream",
     "name": "stdout",
     "text": [
      "('1', ['9823.11'])\n",
      "('2', ['5243.10', 'A'])\n",
      "('X', ['100.32'])\n"
     ]
    }
   ],
   "metadata": {}
  },
  {
   "cell_type": "code",
   "execution_count": null,
   "source": [],
   "outputs": [],
   "metadata": {}
  }
 ],
 "metadata": {
  "orig_nbformat": 4,
  "language_info": {
   "name": "python",
   "version": "3.8.10",
   "mimetype": "text/x-python",
   "codemirror_mode": {
    "name": "ipython",
    "version": 3
   },
   "pygments_lexer": "ipython3",
   "nbconvert_exporter": "python",
   "file_extension": ".py"
  },
  "kernelspec": {
   "name": "python3",
   "display_name": "Python 3.8.10 64-bit"
  },
  "interpreter": {
   "hash": "31f2aee4e71d21fbe5cf8b01ff0e069b9275f58929596ceb00d14d90e3e16cd6"
  }
 },
 "nbformat": 4,
 "nbformat_minor": 2
}